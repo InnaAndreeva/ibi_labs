{
  "nbformat": 4,
  "nbformat_minor": 0,
  "metadata": {
    "colab": {
      "name": "cp 1.ipynb",
      "provenance": []
    },
    "kernelspec": {
      "name": "python3",
      "display_name": "Python 3"
    }
  },
  "cells": [
    {
      "cell_type": "code",
      "metadata": {
        "colab": {
          "base_uri": "https://localhost:8080/"
        },
        "id": "oj6i-OM8enfl",
        "outputId": "19e4f3d9-9600-4f95-c1fe-14780c5363d5"
      },
      "source": [
        "!pip install gym"
      ],
      "execution_count": null,
      "outputs": [
        {
          "output_type": "stream",
          "text": [
            "Requirement already satisfied: gym in /usr/local/lib/python3.7/dist-packages (0.17.3)\n",
            "Requirement already satisfied: pyglet<=1.5.0,>=1.4.0 in /usr/local/lib/python3.7/dist-packages (from gym) (1.5.0)\n",
            "Requirement already satisfied: scipy in /usr/local/lib/python3.7/dist-packages (from gym) (1.4.1)\n",
            "Requirement already satisfied: numpy>=1.10.4 in /usr/local/lib/python3.7/dist-packages (from gym) (1.19.5)\n",
            "Requirement already satisfied: cloudpickle<1.7.0,>=1.2.0 in /usr/local/lib/python3.7/dist-packages (from gym) (1.3.0)\n",
            "Requirement already satisfied: future in /usr/local/lib/python3.7/dist-packages (from pyglet<=1.5.0,>=1.4.0->gym) (0.16.0)\n"
          ],
          "name": "stdout"
        }
      ]
    },
    {
      "cell_type": "code",
      "metadata": {
        "id": "cg8O2YYtg5OV"
      },
      "source": [
        "import gym\n",
        "import numpy as np\n",
        "import matplotlib.pyplot as plt"
      ],
      "execution_count": null,
      "outputs": []
    },
    {
      "cell_type": "code",
      "metadata": {
        "id": "IdDCKgKTkpX0"
      },
      "source": [
        "cp_env = gym.make(\"CartPole-v0\")"
      ],
      "execution_count": null,
      "outputs": []
    },
    {
      "cell_type": "code",
      "metadata": {
        "id": "kOHNdjaNk-j-"
      },
      "source": [
        "GAMMA = 0.8\n",
        "ALPHA = 0.008\n",
        "MAXSTATES = 10**4\n",
        "total_reward = 0"
      ],
      "execution_count": null,
      "outputs": []
    },
    {
      "cell_type": "code",
      "metadata": {
        "id": "yqcw6BYH-Wke"
      },
      "source": [
        "def find_max(d_dict):\n",
        "  max_value = float(\"-inf\")\n",
        "  for key, value in d_dict.items():\n",
        "    if value > max_value:\n",
        "      max_value = value\n",
        "      max_key = key\n",
        "  return max_key, max_value\n",
        "\n",
        "def create_observations():\n",
        "  observations = np.zeros((4, 10))\n",
        "  observations[0] = np.linspace(-4.8,4.8,10)\n",
        "  observations[1] = np.linspace(-5,5,10)\n",
        "  observations[2] = np.linspace(-.418,.418,10)\n",
        "  observations[3] = np.linspace(-5,5,10)\n",
        "\n",
        "  return observations"
      ],
      "execution_count": null,
      "outputs": []
    },
    {
      "cell_type": "code",
      "metadata": {
        "id": "V7xSJSrK-cKi"
      },
      "source": [
        "def set_state(observation, observations):\n",
        "  state = np.zeros(4)\n",
        "  for i in range(4):\n",
        "    state[i] = np.digitize(observation[i], observations[i])\n",
        "  return state\n",
        "\n",
        "def get_state(state):\n",
        "  state_to_string = ''.join(str(int(e)) for e in state)\n",
        "  return state_to_string\n",
        "\n",
        "def get_states():\n",
        "  states = []\n",
        "  for i in range (MAXSTATES):\n",
        "    states.append(str(i).zfill(4))\n",
        "  return states\n",
        "\n",
        "def create_q():\n",
        "  Q = {}\n",
        "  \n",
        "  all_states = get_states()\n",
        "  for state in all_states:\n",
        "    Q[state] = {}\n",
        "    for action in range(cp_env.action_space.n):\n",
        "      Q[state][action]= 0\n",
        "  return Q"
      ],
      "execution_count": null,
      "outputs": []
    },
    {
      "cell_type": "code",
      "metadata": {
        "id": "cCXtdwCd-dBG"
      },
      "source": [
        "def play_game(observations, Q, eps = 0.5):\n",
        "  observation = cp_env.reset()\n",
        "  done = False\n",
        "  cnt = 0\n",
        "  state = get_state(set_state(observation, observations))\n",
        "\n",
        "  while not done:\n",
        "    cnt+= 1\n",
        "    if np.random.uniform() <eps:\n",
        "      act = cp_env.action_space.sample()\n",
        "    else:\n",
        "      act = find_max(Q[state])[0]\n",
        "    \n",
        "    observation, reward, done, _ = cp_env.step(act)\n",
        "\n",
        "    global total_reward\n",
        "    total_reward += reward\n",
        "\n",
        "    if done and cnt <200:\n",
        "      reward = -300\n",
        "\n",
        "    state_new = get_state(set_state(observation, observations))\n",
        "\n",
        "    al, max_q_slal = find_max(Q[state_new])\n",
        "    Q[state][act] += ALPHA*(reward+GAMMA*max_q_slal - Q[state][act])\n",
        "    state, act = state_new, al\n",
        "    \n",
        "    cp_env.close()\n",
        "  return total_reward, cnt\n",
        "\n",
        "def play_games(observations, N = 10000):\n",
        "  Q = create_q()\n",
        "\n",
        "  length = []\n",
        "  reward = []\n",
        "  for n in range(N):\n",
        "    eps = 1.0/np.sqrt(n-1)\n",
        "\n",
        "    episode_reward, episode_length = play_game(observations, Q, eps)\n",
        "\n",
        "    if n % 100 == 0:\n",
        "      print(n, '%.3f' % eps, episode_length)\n",
        "    length.append(episode_length)\n",
        "    reward.append(episode_reward)\n",
        "\n",
        "  return length, reward"
      ],
      "execution_count": null,
      "outputs": []
    },
    {
      "cell_type": "code",
      "metadata": {
        "id": "Y0cyi3ku-mma"
      },
      "source": [
        "def plot_game_stat(totalrewards):\n",
        "  N = len(totalrewards)\n",
        "  running_avg = np.empty(N)\n",
        "  for t in range (N):\n",
        "    running_avg[t] = np.mean(totalrewards[max(0, t - 100):(t+1)])\n",
        "  plt.plot(running_avg)\n",
        "  plt.title(\"Training scores plot\")\n",
        "  plt.ylabel(\"Score\")\n",
        "  plt.xlabel(\"Runs\")\n",
        "  plt.show()"
      ],
      "execution_count": null,
      "outputs": []
    },
    {
      "cell_type": "code",
      "metadata": {
        "colab": {
          "base_uri": "https://localhost:8080/"
        },
        "id": "5Mdn4qkR-sAP",
        "outputId": "fa1a31f2-2625-44f1-f655-4a65b59c9e5d"
      },
      "source": [
        "observations = create_observations()\n",
        "episode_length, episode_rewards = play_games(observations)"
      ],
      "execution_count": null,
      "outputs": [
        {
          "output_type": "stream",
          "text": [
            "/usr/local/lib/python3.7/dist-packages/ipykernel_launcher.py:37: RuntimeWarning: invalid value encountered in sqrt\n",
            "/usr/local/lib/python3.7/dist-packages/ipykernel_launcher.py:37: RuntimeWarning: divide by zero encountered in double_scalars\n"
          ],
          "name": "stderr"
        },
        {
          "output_type": "stream",
          "text": [
            "0 nan 9\n",
            "100 0.101 41\n",
            "200 0.071 70\n",
            "300 0.058 20\n",
            "400 0.050 128\n",
            "500 0.045 127\n",
            "600 0.041 100\n",
            "700 0.038 125\n",
            "800 0.035 128\n",
            "900 0.033 126\n",
            "1000 0.032 126\n",
            "1100 0.030 130\n",
            "1200 0.029 131\n",
            "1300 0.028 58\n",
            "1400 0.027 120\n",
            "1500 0.026 118\n",
            "1600 0.025 127\n",
            "1700 0.024 122\n",
            "1800 0.024 138\n",
            "1900 0.023 141\n",
            "2000 0.022 137\n",
            "2100 0.022 128\n",
            "2200 0.021 137\n",
            "2300 0.021 138\n",
            "2400 0.020 147\n",
            "2500 0.020 123\n",
            "2600 0.020 143\n",
            "2700 0.019 124\n",
            "2800 0.019 121\n",
            "2900 0.019 90\n",
            "3000 0.018 95\n",
            "3100 0.018 137\n",
            "3200 0.018 127\n",
            "3300 0.017 101\n",
            "3400 0.017 90\n",
            "3500 0.017 99\n",
            "3600 0.017 139\n",
            "3700 0.016 127\n",
            "3800 0.016 137\n",
            "3900 0.016 116\n",
            "4000 0.016 131\n",
            "4100 0.016 123\n",
            "4200 0.015 141\n",
            "4300 0.015 145\n",
            "4400 0.015 143\n",
            "4500 0.015 169\n",
            "4600 0.015 135\n",
            "4700 0.015 134\n",
            "4800 0.014 154\n",
            "4900 0.014 141\n",
            "5000 0.014 140\n",
            "5100 0.014 145\n",
            "5200 0.014 147\n",
            "5300 0.014 153\n",
            "5400 0.014 146\n",
            "5500 0.013 130\n",
            "5600 0.013 133\n",
            "5700 0.013 137\n",
            "5800 0.013 135\n",
            "5900 0.013 155\n",
            "6000 0.013 159\n",
            "6100 0.013 148\n",
            "6200 0.013 147\n",
            "6300 0.013 148\n",
            "6400 0.013 155\n",
            "6500 0.012 136\n",
            "6600 0.012 140\n",
            "6700 0.012 146\n",
            "6800 0.012 145\n",
            "6900 0.012 141\n",
            "7000 0.012 148\n",
            "7100 0.012 170\n",
            "7200 0.012 146\n",
            "7300 0.012 132\n",
            "7400 0.012 183\n",
            "7500 0.012 153\n",
            "7600 0.011 180\n",
            "7700 0.011 154\n",
            "7800 0.011 174\n",
            "7900 0.011 184\n",
            "8000 0.011 168\n",
            "8100 0.011 150\n",
            "8200 0.011 171\n",
            "8300 0.011 145\n",
            "8400 0.011 133\n",
            "8500 0.011 132\n",
            "8600 0.011 136\n",
            "8700 0.011 161\n",
            "8800 0.011 144\n",
            "8900 0.011 150\n",
            "9000 0.011 170\n",
            "9100 0.010 199\n",
            "9200 0.010 200\n",
            "9300 0.010 200\n",
            "9400 0.010 193\n",
            "9500 0.010 149\n",
            "9600 0.010 197\n",
            "9700 0.010 200\n",
            "9800 0.010 197\n",
            "9900 0.010 186\n"
          ],
          "name": "stdout"
        }
      ]
    },
    {
      "cell_type": "code",
      "metadata": {
        "colab": {
          "base_uri": "https://localhost:8080/",
          "height": 295
        },
        "id": "EiLCW5jY-sqD",
        "outputId": "f45dfb62-e28a-4a86-b743-883506ecfb41"
      },
      "source": [
        "plot_game_stat(episode_rewards)"
      ],
      "execution_count": null,
      "outputs": [
        {
          "output_type": "display_data",
          "data": {
            "image/png": "[encoded data removed]",
            "text/plain": [
              "<Figure size 432x288 with 1 Axes>"
            ]
          },
          "metadata": {
            "tags": [],
            "needs_background": "light"
          }
        }
      ]
    },
    {
      "cell_type": "code",
      "metadata": {
        "id": "DSP0cvffg5XA"
      },
      "source": [
        ""
      ],
      "execution_count": null,
      "outputs": []
    }
  ]
}